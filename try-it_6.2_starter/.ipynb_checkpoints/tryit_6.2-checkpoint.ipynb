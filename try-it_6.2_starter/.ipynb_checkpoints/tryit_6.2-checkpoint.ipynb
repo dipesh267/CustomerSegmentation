{
 "cells": [
  {
   "cell_type": "markdown",
   "metadata": {},
   "source": [
    "### Exploring Customer Segmentation\n",
    "\n",
    "\n",
    "<center>\n",
    "    <img src = images/segments.jpeg>\n",
    "</center>\n",
    "\n",
    "\n",
    "In this activity, you are tasked with profiling customer groups for a large telecommunications company.  The data provided contains information on customers purchasing and useage behavior with the telecom products.  Your goal is to use PCA and clustering to segment these customers into meaningful groups, and report back your findings.  \n",
    "\n",
    "Because these results need to be interpretable, it is important to keep the number of clusters reasonable.  Think about how you might represent some of the non-numeric features so that they can be included in your segmentation models.  You are to report back your approach and findings to the class.  Be specific about what features were used and how you interpret the resulting clusters."
   ]
  },
  {
   "cell_type": "code",
   "execution_count": 2,
   "metadata": {},
   "outputs": [],
   "source": [
    "import matplotlib.pyplot as plt\n",
    "import numpy as np\n",
    "import pandas as pd\n",
    "import seaborn as sns\n",
    "from scipy.linalg import svd\n",
    "from sklearn.cluster import KMeans, DBSCAN\n",
    "from sklearn.decomposition import PCA\n",
    "from sklearn.preprocessing import OneHotEncoder\n",
    "from sklearn.preprocessing import StandardScaler"
   ]
  },
  {
   "cell_type": "code",
   "execution_count": 3,
   "metadata": {},
   "outputs": [],
   "source": [
    "df = pd.read_csv('data/telco_churn_data.csv')"
   ]
  },
  {
   "cell_type": "code",
   "execution_count": 4,
   "metadata": {},
   "outputs": [
    {
     "name": "stdout",
     "output_type": "stream",
     "text": [
      "0        No\n",
      "1        No\n",
      "2       Yes\n",
      "3       Yes\n",
      "4        No\n",
      "       ... \n",
      "7038     No\n",
      "7039    Yes\n",
      "7040    Yes\n",
      "7041     No\n",
      "7042    Yes\n",
      "Name: Streaming TV, Length: 7043, dtype: object\n"
     ]
    }
   ],
   "source": [
    "df.head()\n",
    "print(df['Streaming TV'])"
   ]
  },
  {
   "cell_type": "code",
   "execution_count": 5,
   "metadata": {},
   "outputs": [
    {
     "name": "stdout",
     "output_type": "stream",
     "text": [
      "<class 'pandas.core.frame.DataFrame'>\n",
      "RangeIndex: 7043 entries, 0 to 7042\n",
      "Data columns (total 46 columns):\n",
      " #   Column                             Non-Null Count  Dtype  \n",
      "---  ------                             --------------  -----  \n",
      " 0   Customer ID                        7043 non-null   object \n",
      " 1   Referred a Friend                  7043 non-null   object \n",
      " 2   Number of Referrals                7043 non-null   int64  \n",
      " 3   Tenure in Months                   7043 non-null   int64  \n",
      " 4   Offer                              3166 non-null   object \n",
      " 5   Phone Service                      7043 non-null   object \n",
      " 6   Avg Monthly Long Distance Charges  7043 non-null   float64\n",
      " 7   Multiple Lines                     7043 non-null   object \n",
      " 8   Internet Service                   7043 non-null   object \n",
      " 9   Internet Type                      5517 non-null   object \n",
      " 10  Avg Monthly GB Download            7043 non-null   int64  \n",
      " 11  Online Security                    7043 non-null   object \n",
      " 12  Online Backup                      7043 non-null   object \n",
      " 13  Device Protection Plan             7043 non-null   object \n",
      " 14  Premium Tech Support               7043 non-null   object \n",
      " 15  Streaming TV                       7043 non-null   object \n",
      " 16  Streaming Movies                   7043 non-null   object \n",
      " 17  Streaming Music                    7043 non-null   object \n",
      " 18  Unlimited Data                     7043 non-null   object \n",
      " 19  Contract                           7043 non-null   object \n",
      " 20  Paperless Billing                  7043 non-null   object \n",
      " 21  Payment Method                     7043 non-null   object \n",
      " 22  Monthly Charge                     7043 non-null   float64\n",
      " 23  Total Regular Charges              7043 non-null   float64\n",
      " 24  Total Refunds                      7043 non-null   float64\n",
      " 25  Total Extra Data Charges           7043 non-null   float64\n",
      " 26  Total Long Distance Charges        7043 non-null   float64\n",
      " 27  Gender                             7043 non-null   object \n",
      " 28  Age                                7043 non-null   int64  \n",
      " 29  Under 30                           7043 non-null   object \n",
      " 30  Senior Citizen                     7043 non-null   object \n",
      " 31  Married                            7043 non-null   object \n",
      " 32  Dependents                         7043 non-null   object \n",
      " 33  Number of Dependents               7043 non-null   int64  \n",
      " 34  City                               7043 non-null   object \n",
      " 35  Zip Code                           7043 non-null   int64  \n",
      " 36  Latitude                           7043 non-null   float64\n",
      " 37  Longitude                          7043 non-null   float64\n",
      " 38  Population                         7043 non-null   int64  \n",
      " 39  Churn Value                        7043 non-null   int64  \n",
      " 40  CLTV                               7043 non-null   int64  \n",
      " 41  Churn Category                     1869 non-null   object \n",
      " 42  Churn Reason                       1869 non-null   object \n",
      " 43  Total Customer Svc Requests        7043 non-null   int64  \n",
      " 44  Product/Service Issues Reported    7043 non-null   int64  \n",
      " 45  Customer Satisfaction              1834 non-null   float64\n",
      "dtypes: float64(9), int64(11), object(26)\n",
      "memory usage: 2.5+ MB\n"
     ]
    }
   ],
   "source": [
    "df.info()"
   ]
  },
  {
   "cell_type": "code",
   "execution_count": 6,
   "metadata": {},
   "outputs": [
    {
     "data": {
      "text/html": [
       "<div>\n",
       "<style scoped>\n",
       "    .dataframe tbody tr th:only-of-type {\n",
       "        vertical-align: middle;\n",
       "    }\n",
       "\n",
       "    .dataframe tbody tr th {\n",
       "        vertical-align: top;\n",
       "    }\n",
       "\n",
       "    .dataframe thead th {\n",
       "        text-align: right;\n",
       "    }\n",
       "</style>\n",
       "<table border=\"1\" class=\"dataframe\">\n",
       "  <thead>\n",
       "    <tr style=\"text-align: right;\">\n",
       "      <th></th>\n",
       "      <th>Number of Referrals</th>\n",
       "      <th>Tenure in Months</th>\n",
       "      <th>Avg Monthly Long Distance Charges</th>\n",
       "      <th>Avg Monthly GB Download</th>\n",
       "      <th>Monthly Charge</th>\n",
       "      <th>Total Regular Charges</th>\n",
       "      <th>Total Refunds</th>\n",
       "      <th>Total Extra Data Charges</th>\n",
       "      <th>Total Long Distance Charges</th>\n",
       "      <th>Age</th>\n",
       "      <th>Number of Dependents</th>\n",
       "      <th>Zip Code</th>\n",
       "      <th>Latitude</th>\n",
       "      <th>Longitude</th>\n",
       "      <th>Population</th>\n",
       "      <th>Churn Value</th>\n",
       "      <th>CLTV</th>\n",
       "      <th>Total Customer Svc Requests</th>\n",
       "      <th>Product/Service Issues Reported</th>\n",
       "      <th>Customer Satisfaction</th>\n",
       "    </tr>\n",
       "  </thead>\n",
       "  <tbody>\n",
       "    <tr>\n",
       "      <th>count</th>\n",
       "      <td>7043.000000</td>\n",
       "      <td>7043.000000</td>\n",
       "      <td>7043.000000</td>\n",
       "      <td>7043.000000</td>\n",
       "      <td>7043.000000</td>\n",
       "      <td>7043.000000</td>\n",
       "      <td>7043.000000</td>\n",
       "      <td>7043.000000</td>\n",
       "      <td>7043.000000</td>\n",
       "      <td>7043.000000</td>\n",
       "      <td>7043.000000</td>\n",
       "      <td>7043.000000</td>\n",
       "      <td>7043.000000</td>\n",
       "      <td>7043.000000</td>\n",
       "      <td>7043.000000</td>\n",
       "      <td>7043.000000</td>\n",
       "      <td>7043.000000</td>\n",
       "      <td>7043.000000</td>\n",
       "      <td>7043.000000</td>\n",
       "      <td>1834.000000</td>\n",
       "    </tr>\n",
       "    <tr>\n",
       "      <th>mean</th>\n",
       "      <td>1.951867</td>\n",
       "      <td>32.386767</td>\n",
       "      <td>22.958954</td>\n",
       "      <td>21.110890</td>\n",
       "      <td>65.538800</td>\n",
       "      <td>2280.381264</td>\n",
       "      <td>1.962182</td>\n",
       "      <td>278.499225</td>\n",
       "      <td>749.099262</td>\n",
       "      <td>46.509726</td>\n",
       "      <td>0.468692</td>\n",
       "      <td>93486.070567</td>\n",
       "      <td>36.197455</td>\n",
       "      <td>-119.756684</td>\n",
       "      <td>22139.603294</td>\n",
       "      <td>0.265370</td>\n",
       "      <td>4400.295755</td>\n",
       "      <td>1.338776</td>\n",
       "      <td>0.308107</td>\n",
       "      <td>3.005453</td>\n",
       "    </tr>\n",
       "    <tr>\n",
       "      <th>std</th>\n",
       "      <td>3.001199</td>\n",
       "      <td>24.542061</td>\n",
       "      <td>15.448113</td>\n",
       "      <td>20.948471</td>\n",
       "      <td>30.606805</td>\n",
       "      <td>2266.220462</td>\n",
       "      <td>7.902614</td>\n",
       "      <td>685.039625</td>\n",
       "      <td>846.660055</td>\n",
       "      <td>16.750352</td>\n",
       "      <td>0.962802</td>\n",
       "      <td>1856.767505</td>\n",
       "      <td>2.468929</td>\n",
       "      <td>2.154425</td>\n",
       "      <td>21152.392837</td>\n",
       "      <td>0.441561</td>\n",
       "      <td>1183.057152</td>\n",
       "      <td>1.430471</td>\n",
       "      <td>0.717514</td>\n",
       "      <td>1.256938</td>\n",
       "    </tr>\n",
       "    <tr>\n",
       "      <th>min</th>\n",
       "      <td>0.000000</td>\n",
       "      <td>1.000000</td>\n",
       "      <td>0.000000</td>\n",
       "      <td>0.000000</td>\n",
       "      <td>18.250000</td>\n",
       "      <td>18.800000</td>\n",
       "      <td>0.000000</td>\n",
       "      <td>0.000000</td>\n",
       "      <td>0.000000</td>\n",
       "      <td>19.000000</td>\n",
       "      <td>0.000000</td>\n",
       "      <td>90001.000000</td>\n",
       "      <td>32.555828</td>\n",
       "      <td>-124.301372</td>\n",
       "      <td>11.000000</td>\n",
       "      <td>0.000000</td>\n",
       "      <td>2003.000000</td>\n",
       "      <td>0.000000</td>\n",
       "      <td>0.000000</td>\n",
       "      <td>1.000000</td>\n",
       "    </tr>\n",
       "    <tr>\n",
       "      <th>25%</th>\n",
       "      <td>0.000000</td>\n",
       "      <td>9.000000</td>\n",
       "      <td>9.210000</td>\n",
       "      <td>3.000000</td>\n",
       "      <td>35.890000</td>\n",
       "      <td>400.150000</td>\n",
       "      <td>0.000000</td>\n",
       "      <td>0.000000</td>\n",
       "      <td>70.545000</td>\n",
       "      <td>32.000000</td>\n",
       "      <td>0.000000</td>\n",
       "      <td>92101.000000</td>\n",
       "      <td>33.990646</td>\n",
       "      <td>-121.788090</td>\n",
       "      <td>2344.000000</td>\n",
       "      <td>0.000000</td>\n",
       "      <td>3469.000000</td>\n",
       "      <td>0.000000</td>\n",
       "      <td>0.000000</td>\n",
       "      <td>2.000000</td>\n",
       "    </tr>\n",
       "    <tr>\n",
       "      <th>50%</th>\n",
       "      <td>0.000000</td>\n",
       "      <td>29.000000</td>\n",
       "      <td>22.890000</td>\n",
       "      <td>17.000000</td>\n",
       "      <td>71.968000</td>\n",
       "      <td>1394.550000</td>\n",
       "      <td>0.000000</td>\n",
       "      <td>0.000000</td>\n",
       "      <td>401.440000</td>\n",
       "      <td>46.000000</td>\n",
       "      <td>0.000000</td>\n",
       "      <td>93518.000000</td>\n",
       "      <td>36.205465</td>\n",
       "      <td>-119.595293</td>\n",
       "      <td>17554.000000</td>\n",
       "      <td>0.000000</td>\n",
       "      <td>4527.000000</td>\n",
       "      <td>1.000000</td>\n",
       "      <td>0.000000</td>\n",
       "      <td>3.000000</td>\n",
       "    </tr>\n",
       "    <tr>\n",
       "      <th>75%</th>\n",
       "      <td>3.000000</td>\n",
       "      <td>55.000000</td>\n",
       "      <td>36.395000</td>\n",
       "      <td>28.000000</td>\n",
       "      <td>90.650000</td>\n",
       "      <td>3786.600000</td>\n",
       "      <td>0.000000</td>\n",
       "      <td>182.620000</td>\n",
       "      <td>1191.100000</td>\n",
       "      <td>60.000000</td>\n",
       "      <td>0.000000</td>\n",
       "      <td>95329.000000</td>\n",
       "      <td>38.161321</td>\n",
       "      <td>-117.969795</td>\n",
       "      <td>36125.000000</td>\n",
       "      <td>1.000000</td>\n",
       "      <td>5380.500000</td>\n",
       "      <td>2.000000</td>\n",
       "      <td>0.000000</td>\n",
       "      <td>4.000000</td>\n",
       "    </tr>\n",
       "    <tr>\n",
       "      <th>max</th>\n",
       "      <td>11.000000</td>\n",
       "      <td>72.000000</td>\n",
       "      <td>49.990000</td>\n",
       "      <td>94.000000</td>\n",
       "      <td>123.084000</td>\n",
       "      <td>8684.800000</td>\n",
       "      <td>49.790000</td>\n",
       "      <td>6477.000000</td>\n",
       "      <td>3564.720000</td>\n",
       "      <td>80.000000</td>\n",
       "      <td>9.000000</td>\n",
       "      <td>96150.000000</td>\n",
       "      <td>41.962127</td>\n",
       "      <td>-114.192901</td>\n",
       "      <td>105285.000000</td>\n",
       "      <td>1.000000</td>\n",
       "      <td>6500.000000</td>\n",
       "      <td>9.000000</td>\n",
       "      <td>6.000000</td>\n",
       "      <td>5.000000</td>\n",
       "    </tr>\n",
       "  </tbody>\n",
       "</table>\n",
       "</div>"
      ],
      "text/plain": [
       "       Number of Referrals  Tenure in Months  \\\n",
       "count          7043.000000       7043.000000   \n",
       "mean              1.951867         32.386767   \n",
       "std               3.001199         24.542061   \n",
       "min               0.000000          1.000000   \n",
       "25%               0.000000          9.000000   \n",
       "50%               0.000000         29.000000   \n",
       "75%               3.000000         55.000000   \n",
       "max              11.000000         72.000000   \n",
       "\n",
       "       Avg Monthly Long Distance Charges  Avg Monthly GB Download  \\\n",
       "count                        7043.000000              7043.000000   \n",
       "mean                           22.958954                21.110890   \n",
       "std                            15.448113                20.948471   \n",
       "min                             0.000000                 0.000000   \n",
       "25%                             9.210000                 3.000000   \n",
       "50%                            22.890000                17.000000   \n",
       "75%                            36.395000                28.000000   \n",
       "max                            49.990000                94.000000   \n",
       "\n",
       "       Monthly Charge  Total Regular Charges  Total Refunds  \\\n",
       "count     7043.000000            7043.000000    7043.000000   \n",
       "mean        65.538800            2280.381264       1.962182   \n",
       "std         30.606805            2266.220462       7.902614   \n",
       "min         18.250000              18.800000       0.000000   \n",
       "25%         35.890000             400.150000       0.000000   \n",
       "50%         71.968000            1394.550000       0.000000   \n",
       "75%         90.650000            3786.600000       0.000000   \n",
       "max        123.084000            8684.800000      49.790000   \n",
       "\n",
       "       Total Extra Data Charges  Total Long Distance Charges          Age  \\\n",
       "count               7043.000000                  7043.000000  7043.000000   \n",
       "mean                 278.499225                   749.099262    46.509726   \n",
       "std                  685.039625                   846.660055    16.750352   \n",
       "min                    0.000000                     0.000000    19.000000   \n",
       "25%                    0.000000                    70.545000    32.000000   \n",
       "50%                    0.000000                   401.440000    46.000000   \n",
       "75%                  182.620000                  1191.100000    60.000000   \n",
       "max                 6477.000000                  3564.720000    80.000000   \n",
       "\n",
       "       Number of Dependents      Zip Code     Latitude    Longitude  \\\n",
       "count           7043.000000   7043.000000  7043.000000  7043.000000   \n",
       "mean               0.468692  93486.070567    36.197455  -119.756684   \n",
       "std                0.962802   1856.767505     2.468929     2.154425   \n",
       "min                0.000000  90001.000000    32.555828  -124.301372   \n",
       "25%                0.000000  92101.000000    33.990646  -121.788090   \n",
       "50%                0.000000  93518.000000    36.205465  -119.595293   \n",
       "75%                0.000000  95329.000000    38.161321  -117.969795   \n",
       "max                9.000000  96150.000000    41.962127  -114.192901   \n",
       "\n",
       "          Population  Churn Value         CLTV  Total Customer Svc Requests  \\\n",
       "count    7043.000000  7043.000000  7043.000000                  7043.000000   \n",
       "mean    22139.603294     0.265370  4400.295755                     1.338776   \n",
       "std     21152.392837     0.441561  1183.057152                     1.430471   \n",
       "min        11.000000     0.000000  2003.000000                     0.000000   \n",
       "25%      2344.000000     0.000000  3469.000000                     0.000000   \n",
       "50%     17554.000000     0.000000  4527.000000                     1.000000   \n",
       "75%     36125.000000     1.000000  5380.500000                     2.000000   \n",
       "max    105285.000000     1.000000  6500.000000                     9.000000   \n",
       "\n",
       "       Product/Service Issues Reported  Customer Satisfaction  \n",
       "count                      7043.000000            1834.000000  \n",
       "mean                          0.308107               3.005453  \n",
       "std                           0.717514               1.256938  \n",
       "min                           0.000000               1.000000  \n",
       "25%                           0.000000               2.000000  \n",
       "50%                           0.000000               3.000000  \n",
       "75%                           0.000000               4.000000  \n",
       "max                           6.000000               5.000000  "
      ]
     },
     "execution_count": 6,
     "metadata": {},
     "output_type": "execute_result"
    }
   ],
   "source": [
    "df.describe()"
   ]
  },
  {
   "cell_type": "code",
   "execution_count": 7,
   "metadata": {},
   "outputs": [
    {
     "data": {
      "text/plain": [
       "Customer ID                             0\n",
       "Referred a Friend                       0\n",
       "Number of Referrals                     0\n",
       "Tenure in Months                        0\n",
       "Offer                                3877\n",
       "Phone Service                           0\n",
       "Avg Monthly Long Distance Charges       0\n",
       "Multiple Lines                          0\n",
       "Internet Service                        0\n",
       "Internet Type                        1526\n",
       "Avg Monthly GB Download                 0\n",
       "Online Security                         0\n",
       "Online Backup                           0\n",
       "Device Protection Plan                  0\n",
       "Premium Tech Support                    0\n",
       "Streaming TV                            0\n",
       "Streaming Movies                        0\n",
       "Streaming Music                         0\n",
       "Unlimited Data                          0\n",
       "Contract                                0\n",
       "Paperless Billing                       0\n",
       "Payment Method                          0\n",
       "Monthly Charge                          0\n",
       "Total Regular Charges                   0\n",
       "Total Refunds                           0\n",
       "Total Extra Data Charges                0\n",
       "Total Long Distance Charges             0\n",
       "Gender                                  0\n",
       "Age                                     0\n",
       "Under 30                                0\n",
       "Senior Citizen                          0\n",
       "Married                                 0\n",
       "Dependents                              0\n",
       "Number of Dependents                    0\n",
       "City                                    0\n",
       "Zip Code                                0\n",
       "Latitude                                0\n",
       "Longitude                               0\n",
       "Population                              0\n",
       "Churn Value                             0\n",
       "CLTV                                    0\n",
       "Churn Category                       5174\n",
       "Churn Reason                         5174\n",
       "Total Customer Svc Requests             0\n",
       "Product/Service Issues Reported         0\n",
       "Customer Satisfaction                5209\n",
       "dtype: int64"
      ]
     },
     "execution_count": 7,
     "metadata": {},
     "output_type": "execute_result"
    }
   ],
   "source": [
    "#lots of Nan in certain columns. so let's drop it\n",
    "df.isna().sum()"
   ]
  },
  {
   "cell_type": "code",
   "execution_count": 8,
   "metadata": {},
   "outputs": [
    {
     "data": {
      "text/plain": [
       "Referred a Friend                       0\n",
       "Number of Referrals                     0\n",
       "Tenure in Months                        0\n",
       "Phone Service                           0\n",
       "Avg Monthly Long Distance Charges       0\n",
       "Multiple Lines                          0\n",
       "Internet Service                        0\n",
       "Avg Monthly GB Download                 0\n",
       "Online Security                         0\n",
       "Online Backup                           0\n",
       "Device Protection Plan                  0\n",
       "Premium Tech Support                    0\n",
       "Streaming TV                            0\n",
       "Streaming Movies                        0\n",
       "Streaming Music                         0\n",
       "Unlimited Data                          0\n",
       "Contract                                0\n",
       "Paperless Billing                       0\n",
       "Payment Method                          0\n",
       "Monthly Charge                          0\n",
       "Total Regular Charges                   0\n",
       "Total Refunds                           0\n",
       "Total Extra Data Charges                0\n",
       "Total Long Distance Charges             0\n",
       "Gender                                  0\n",
       "Age                                     0\n",
       "Under 30                                0\n",
       "Senior Citizen                          0\n",
       "Married                                 0\n",
       "Dependents                              0\n",
       "Number of Dependents                    0\n",
       "City                                    0\n",
       "Zip Code                                0\n",
       "Latitude                                0\n",
       "Longitude                               0\n",
       "Population                              0\n",
       "Churn Value                             0\n",
       "CLTV                                    0\n",
       "Total Customer Svc Requests             0\n",
       "Product/Service Issues Reported         0\n",
       "Customer Satisfaction                5209\n",
       "dtype: int64"
      ]
     },
     "execution_count": 8,
     "metadata": {},
     "output_type": "execute_result"
    }
   ],
   "source": [
    "newdf = df.drop(columns={'Customer ID','Offer','Internet Type','Churn Category','Customer Satisfaction','Churn Reason'})\n",
    "newdf.isna().sum()"
   ]
  },
  {
   "cell_type": "code",
   "execution_count": 9,
   "metadata": {},
   "outputs": [
    {
     "data": {
      "text/plain": [
       "['Referred a Friend',\n",
       " 'Phone Service',\n",
       " 'Multiple Lines',\n",
       " 'Internet Service',\n",
       " 'Online Security',\n",
       " 'Online Backup',\n",
       " 'Device Protection Plan',\n",
       " 'Premium Tech Support',\n",
       " 'Streaming TV',\n",
       " 'Streaming Movies',\n",
       " 'Streaming Music',\n",
       " 'Unlimited Data',\n",
       " 'Contract',\n",
       " 'Paperless Billing',\n",
       " 'Payment Method',\n",
       " 'Gender',\n",
       " 'Under 30',\n",
       " 'Senior Citizen',\n",
       " 'Married',\n",
       " 'Dependents',\n",
       " 'City']"
      ]
     },
     "execution_count": 9,
     "metadata": {},
     "output_type": "execute_result"
    }
   ],
   "source": [
    "object_cols = newdf.select_dtypes('object').columns.tolist()\n",
    "object_cols"
   ]
  },
  {
   "cell_type": "code",
   "execution_count": 10,
   "metadata": {},
   "outputs": [
    {
     "data": {
      "text/html": [
       "<div>\n",
       "<style scoped>\n",
       "    .dataframe tbody tr th:only-of-type {\n",
       "        vertical-align: middle;\n",
       "    }\n",
       "\n",
       "    .dataframe tbody tr th {\n",
       "        vertical-align: top;\n",
       "    }\n",
       "\n",
       "    .dataframe thead th {\n",
       "        text-align: right;\n",
       "    }\n",
       "</style>\n",
       "<table border=\"1\" class=\"dataframe\">\n",
       "  <thead>\n",
       "    <tr style=\"text-align: right;\">\n",
       "      <th></th>\n",
       "      <th>Multiple Lines_Yes</th>\n",
       "      <th>Internet Service_Yes</th>\n",
       "      <th>Gender_Male</th>\n",
       "      <th>Married_Yes</th>\n",
       "      <th>Dependents_Yes</th>\n",
       "    </tr>\n",
       "  </thead>\n",
       "  <tbody>\n",
       "    <tr>\n",
       "      <th>0</th>\n",
       "      <td>0.0</td>\n",
       "      <td>1.0</td>\n",
       "      <td>1.0</td>\n",
       "      <td>0.0</td>\n",
       "      <td>0.0</td>\n",
       "    </tr>\n",
       "    <tr>\n",
       "      <th>1</th>\n",
       "      <td>1.0</td>\n",
       "      <td>1.0</td>\n",
       "      <td>0.0</td>\n",
       "      <td>1.0</td>\n",
       "      <td>1.0</td>\n",
       "    </tr>\n",
       "    <tr>\n",
       "      <th>2</th>\n",
       "      <td>1.0</td>\n",
       "      <td>1.0</td>\n",
       "      <td>1.0</td>\n",
       "      <td>0.0</td>\n",
       "      <td>1.0</td>\n",
       "    </tr>\n",
       "    <tr>\n",
       "      <th>3</th>\n",
       "      <td>0.0</td>\n",
       "      <td>1.0</td>\n",
       "      <td>0.0</td>\n",
       "      <td>1.0</td>\n",
       "      <td>1.0</td>\n",
       "    </tr>\n",
       "    <tr>\n",
       "      <th>4</th>\n",
       "      <td>1.0</td>\n",
       "      <td>1.0</td>\n",
       "      <td>0.0</td>\n",
       "      <td>1.0</td>\n",
       "      <td>1.0</td>\n",
       "    </tr>\n",
       "    <tr>\n",
       "      <th>...</th>\n",
       "      <td>...</td>\n",
       "      <td>...</td>\n",
       "      <td>...</td>\n",
       "      <td>...</td>\n",
       "      <td>...</td>\n",
       "    </tr>\n",
       "    <tr>\n",
       "      <th>7038</th>\n",
       "      <td>0.0</td>\n",
       "      <td>0.0</td>\n",
       "      <td>0.0</td>\n",
       "      <td>0.0</td>\n",
       "      <td>0.0</td>\n",
       "    </tr>\n",
       "    <tr>\n",
       "      <th>7039</th>\n",
       "      <td>1.0</td>\n",
       "      <td>1.0</td>\n",
       "      <td>1.0</td>\n",
       "      <td>1.0</td>\n",
       "      <td>1.0</td>\n",
       "    </tr>\n",
       "    <tr>\n",
       "      <th>7040</th>\n",
       "      <td>1.0</td>\n",
       "      <td>1.0</td>\n",
       "      <td>0.0</td>\n",
       "      <td>1.0</td>\n",
       "      <td>1.0</td>\n",
       "    </tr>\n",
       "    <tr>\n",
       "      <th>7041</th>\n",
       "      <td>0.0</td>\n",
       "      <td>1.0</td>\n",
       "      <td>0.0</td>\n",
       "      <td>1.0</td>\n",
       "      <td>1.0</td>\n",
       "    </tr>\n",
       "    <tr>\n",
       "      <th>7042</th>\n",
       "      <td>0.0</td>\n",
       "      <td>1.0</td>\n",
       "      <td>1.0</td>\n",
       "      <td>0.0</td>\n",
       "      <td>0.0</td>\n",
       "    </tr>\n",
       "  </tbody>\n",
       "</table>\n",
       "<p>7043 rows × 5 columns</p>\n",
       "</div>"
      ],
      "text/plain": [
       "      Multiple Lines_Yes  Internet Service_Yes  Gender_Male  Married_Yes  \\\n",
       "0                    0.0                   1.0          1.0          0.0   \n",
       "1                    1.0                   1.0          0.0          1.0   \n",
       "2                    1.0                   1.0          1.0          0.0   \n",
       "3                    0.0                   1.0          0.0          1.0   \n",
       "4                    1.0                   1.0          0.0          1.0   \n",
       "...                  ...                   ...          ...          ...   \n",
       "7038                 0.0                   0.0          0.0          0.0   \n",
       "7039                 1.0                   1.0          1.0          1.0   \n",
       "7040                 1.0                   1.0          0.0          1.0   \n",
       "7041                 0.0                   1.0          0.0          1.0   \n",
       "7042                 0.0                   1.0          1.0          0.0   \n",
       "\n",
       "      Dependents_Yes  \n",
       "0                0.0  \n",
       "1                1.0  \n",
       "2                1.0  \n",
       "3                1.0  \n",
       "4                1.0  \n",
       "...              ...  \n",
       "7038             0.0  \n",
       "7039             1.0  \n",
       "7040             1.0  \n",
       "7041             1.0  \n",
       "7042             0.0  \n",
       "\n",
       "[7043 rows x 5 columns]"
      ]
     },
     "execution_count": 10,
     "metadata": {},
     "output_type": "execute_result"
    }
   ],
   "source": [
    "#toEncode = newdf.select_dtypes(include=['object']).columns.tolist()  #if we wanted to encode all object type columns\n",
    "toEncode = ['Multiple Lines','Internet Service','Gender','Married','Dependents']\n",
    "encoder = OneHotEncoder(drop='first', sparse_output=False)\n",
    "one_hot_encoded = encoder.fit_transform(newdf[toEncode])\n",
    "one_hot_df = pd.DataFrame(one_hot_encoded, columns=encoder.get_feature_names_out(toEncode))\n",
    "one_hot_df"
   ]
  },
  {
   "cell_type": "code",
   "execution_count": 11,
   "metadata": {},
   "outputs": [],
   "source": [
    "df_encoded = pd.concat([newdf, one_hot_df], axis=1)\n",
    "\n",
    "# Drop the original categorical columns to make the df only numerical\n",
    "df_cleaned = df_encoded.drop(object_cols, axis=1)"
   ]
  },
  {
   "cell_type": "code",
   "execution_count": 12,
   "metadata": {},
   "outputs": [
    {
     "name": "stdout",
     "output_type": "stream",
     "text": [
      "<class 'pandas.core.frame.DataFrame'>\n",
      "RangeIndex: 7043 entries, 0 to 7042\n",
      "Data columns (total 25 columns):\n",
      " #   Column                             Non-Null Count  Dtype  \n",
      "---  ------                             --------------  -----  \n",
      " 0   Number of Referrals                7043 non-null   int64  \n",
      " 1   Tenure in Months                   7043 non-null   int64  \n",
      " 2   Avg Monthly Long Distance Charges  7043 non-null   float64\n",
      " 3   Avg Monthly GB Download            7043 non-null   int64  \n",
      " 4   Monthly Charge                     7043 non-null   float64\n",
      " 5   Total Regular Charges              7043 non-null   float64\n",
      " 6   Total Refunds                      7043 non-null   float64\n",
      " 7   Total Extra Data Charges           7043 non-null   float64\n",
      " 8   Total Long Distance Charges        7043 non-null   float64\n",
      " 9   Age                                7043 non-null   int64  \n",
      " 10  Number of Dependents               7043 non-null   int64  \n",
      " 11  Zip Code                           7043 non-null   int64  \n",
      " 12  Latitude                           7043 non-null   float64\n",
      " 13  Longitude                          7043 non-null   float64\n",
      " 14  Population                         7043 non-null   int64  \n",
      " 15  Churn Value                        7043 non-null   int64  \n",
      " 16  CLTV                               7043 non-null   int64  \n",
      " 17  Total Customer Svc Requests        7043 non-null   int64  \n",
      " 18  Product/Service Issues Reported    7043 non-null   int64  \n",
      " 19  Customer Satisfaction              1834 non-null   float64\n",
      " 20  Multiple Lines_Yes                 7043 non-null   float64\n",
      " 21  Internet Service_Yes               7043 non-null   float64\n",
      " 22  Gender_Male                        7043 non-null   float64\n",
      " 23  Married_Yes                        7043 non-null   float64\n",
      " 24  Dependents_Yes                     7043 non-null   float64\n",
      "dtypes: float64(14), int64(11)\n",
      "memory usage: 1.3 MB\n"
     ]
    }
   ],
   "source": [
    "df_cleaned.info()"
   ]
  },
  {
   "cell_type": "code",
   "execution_count": 13,
   "metadata": {},
   "outputs": [],
   "source": [
    "df_scaled = (df_cleaned - df_cleaned.mean())/df_cleaned.std()\n"
   ]
  },
  {
   "cell_type": "code",
   "execution_count": 14,
   "metadata": {},
   "outputs": [
    {
     "ename": "ValueError",
     "evalue": "array must not contain infs or NaNs",
     "output_type": "error",
     "traceback": [
      "\u001b[0;31m---------------------------------------------------------------------------\u001b[0m",
      "\u001b[0;31mValueError\u001b[0m                                Traceback (most recent call last)",
      "Cell \u001b[0;32mIn[14], line 1\u001b[0m\n\u001b[0;32m----> 1\u001b[0m U, s, Vt \u001b[38;5;241m=\u001b[39m svd(df_scaled, full_matrices \u001b[38;5;241m=\u001b[39m \u001b[38;5;28;01mFalse\u001b[39;00m)\n\u001b[1;32m      2\u001b[0m Sigma \u001b[38;5;241m=\u001b[39m np\u001b[38;5;241m.\u001b[39mdiag(s)\n\u001b[1;32m      4\u001b[0m value \u001b[38;5;241m=\u001b[39m  np\u001b[38;5;241m.\u001b[39mcumsum(s)\u001b[38;5;241m/\u001b[39ms\u001b[38;5;241m.\u001b[39msum()\n",
      "File \u001b[0;32m/opt/anaconda3/lib/python3.11/site-packages/scipy/linalg/_decomp_svd.py:108\u001b[0m, in \u001b[0;36msvd\u001b[0;34m(a, full_matrices, compute_uv, overwrite_a, check_finite, lapack_driver)\u001b[0m\n\u001b[1;32m     13\u001b[0m \u001b[38;5;28;01mdef\u001b[39;00m \u001b[38;5;21msvd\u001b[39m(a, full_matrices\u001b[38;5;241m=\u001b[39m\u001b[38;5;28;01mTrue\u001b[39;00m, compute_uv\u001b[38;5;241m=\u001b[39m\u001b[38;5;28;01mTrue\u001b[39;00m, overwrite_a\u001b[38;5;241m=\u001b[39m\u001b[38;5;28;01mFalse\u001b[39;00m,\n\u001b[1;32m     14\u001b[0m         check_finite\u001b[38;5;241m=\u001b[39m\u001b[38;5;28;01mTrue\u001b[39;00m, lapack_driver\u001b[38;5;241m=\u001b[39m\u001b[38;5;124m'\u001b[39m\u001b[38;5;124mgesdd\u001b[39m\u001b[38;5;124m'\u001b[39m):\n\u001b[1;32m     15\u001b[0m \u001b[38;5;250m    \u001b[39m\u001b[38;5;124;03m\"\"\"\u001b[39;00m\n\u001b[1;32m     16\u001b[0m \u001b[38;5;124;03m    Singular Value Decomposition.\u001b[39;00m\n\u001b[1;32m     17\u001b[0m \n\u001b[0;32m   (...)\u001b[0m\n\u001b[1;32m    106\u001b[0m \n\u001b[1;32m    107\u001b[0m \u001b[38;5;124;03m    \"\"\"\u001b[39;00m\n\u001b[0;32m--> 108\u001b[0m     a1 \u001b[38;5;241m=\u001b[39m _asarray_validated(a, check_finite\u001b[38;5;241m=\u001b[39mcheck_finite)\n\u001b[1;32m    109\u001b[0m     \u001b[38;5;28;01mif\u001b[39;00m \u001b[38;5;28mlen\u001b[39m(a1\u001b[38;5;241m.\u001b[39mshape) \u001b[38;5;241m!=\u001b[39m \u001b[38;5;241m2\u001b[39m:\n\u001b[1;32m    110\u001b[0m         \u001b[38;5;28;01mraise\u001b[39;00m \u001b[38;5;167;01mValueError\u001b[39;00m(\u001b[38;5;124m'\u001b[39m\u001b[38;5;124mexpected matrix\u001b[39m\u001b[38;5;124m'\u001b[39m)\n",
      "File \u001b[0;32m/opt/anaconda3/lib/python3.11/site-packages/scipy/_lib/_util.py:240\u001b[0m, in \u001b[0;36m_asarray_validated\u001b[0;34m(a, check_finite, sparse_ok, objects_ok, mask_ok, as_inexact)\u001b[0m\n\u001b[1;32m    238\u001b[0m         \u001b[38;5;28;01mraise\u001b[39;00m \u001b[38;5;167;01mValueError\u001b[39;00m(\u001b[38;5;124m'\u001b[39m\u001b[38;5;124mmasked arrays are not supported\u001b[39m\u001b[38;5;124m'\u001b[39m)\n\u001b[1;32m    239\u001b[0m toarray \u001b[38;5;241m=\u001b[39m np\u001b[38;5;241m.\u001b[39masarray_chkfinite \u001b[38;5;28;01mif\u001b[39;00m check_finite \u001b[38;5;28;01melse\u001b[39;00m np\u001b[38;5;241m.\u001b[39masarray\n\u001b[0;32m--> 240\u001b[0m a \u001b[38;5;241m=\u001b[39m toarray(a)\n\u001b[1;32m    241\u001b[0m \u001b[38;5;28;01mif\u001b[39;00m \u001b[38;5;129;01mnot\u001b[39;00m objects_ok:\n\u001b[1;32m    242\u001b[0m     \u001b[38;5;28;01mif\u001b[39;00m a\u001b[38;5;241m.\u001b[39mdtype \u001b[38;5;129;01mis\u001b[39;00m np\u001b[38;5;241m.\u001b[39mdtype(\u001b[38;5;124m'\u001b[39m\u001b[38;5;124mO\u001b[39m\u001b[38;5;124m'\u001b[39m):\n",
      "File \u001b[0;32m/opt/anaconda3/lib/python3.11/site-packages/numpy/lib/function_base.py:630\u001b[0m, in \u001b[0;36masarray_chkfinite\u001b[0;34m(a, dtype, order)\u001b[0m\n\u001b[1;32m    628\u001b[0m a \u001b[38;5;241m=\u001b[39m asarray(a, dtype\u001b[38;5;241m=\u001b[39mdtype, order\u001b[38;5;241m=\u001b[39morder)\n\u001b[1;32m    629\u001b[0m \u001b[38;5;28;01mif\u001b[39;00m a\u001b[38;5;241m.\u001b[39mdtype\u001b[38;5;241m.\u001b[39mchar \u001b[38;5;129;01min\u001b[39;00m typecodes[\u001b[38;5;124m'\u001b[39m\u001b[38;5;124mAllFloat\u001b[39m\u001b[38;5;124m'\u001b[39m] \u001b[38;5;129;01mand\u001b[39;00m \u001b[38;5;129;01mnot\u001b[39;00m np\u001b[38;5;241m.\u001b[39misfinite(a)\u001b[38;5;241m.\u001b[39mall():\n\u001b[0;32m--> 630\u001b[0m     \u001b[38;5;28;01mraise\u001b[39;00m \u001b[38;5;167;01mValueError\u001b[39;00m(\n\u001b[1;32m    631\u001b[0m         \u001b[38;5;124m\"\u001b[39m\u001b[38;5;124marray must not contain infs or NaNs\u001b[39m\u001b[38;5;124m\"\u001b[39m)\n\u001b[1;32m    632\u001b[0m \u001b[38;5;28;01mreturn\u001b[39;00m a\n",
      "\u001b[0;31mValueError\u001b[0m: array must not contain infs or NaNs"
     ]
    }
   ],
   "source": [
    "U, s, Vt = svd(df_scaled, full_matrices = False)\n",
    "Sigma = np.diag(s)\n",
    "\n",
    "value =  np.cumsum(s)/s.sum()\n",
    "sns.lineplot(data=value, marker='*')"
   ]
  },
  {
   "cell_type": "code",
   "execution_count": null,
   "metadata": {},
   "outputs": [],
   "source": [
    "#method to see how many columns to keep to retain specific % of detail from original table\n",
    "percent_variance_explained = s/s.sum()\n",
    "components = int((np.cumsum(percent_variance_explained) < 0.8).sum())  #how many components to get atleast 80% details\n",
    "components\n",
    "#this is how many components to keep"
   ]
  },
  {
   "cell_type": "code",
   "execution_count": null,
   "metadata": {},
   "outputs": [],
   "source": [
    "#we should keep atleast 14 components to get at least 80% details but 14 is too many??\n",
    "#reduce components to 3\n",
    "pca = PCA(n_components=4)\n",
    "pca.fit(df_scaled)\n",
    "transformed_pca_manual = pca.transform(df_scaled)\n",
    "\n",
    "print(type(transformed_pca_manual))\n",
    "plt.figure(figsize=(8,6))\n",
    "ax1 = plt.axes(projection='3d')\n",
    "ax1.scatter3D(transformed_pca_manual[:,0], transformed_pca_manual[:,1], transformed_pca_manual[:,2], alpha = 0.4)"
   ]
  },
  {
   "cell_type": "code",
   "execution_count": null,
   "metadata": {},
   "outputs": [],
   "source": [
    "transformed_pca_manual"
   ]
  },
  {
   "cell_type": "markdown",
   "metadata": {},
   "source": [
    "## Result of PCA is the transformed_pca_manual"
   ]
  },
  {
   "cell_type": "code",
   "execution_count": null,
   "metadata": {},
   "outputs": [],
   "source": []
  },
  {
   "cell_type": "markdown",
   "metadata": {},
   "source": [
    "### Instead of running manual PCA we can use PCA from Skylearn"
   ]
  },
  {
   "cell_type": "code",
   "execution_count": null,
   "metadata": {},
   "outputs": [],
   "source": [
    "scaler = StandardScaler()\n",
    "scaled_data = scaler.fit_transform(df_cleaned)"
   ]
  },
  {
   "cell_type": "code",
   "execution_count": null,
   "metadata": {},
   "outputs": [],
   "source": [
    "pca_all = PCA()\n",
    "pca_all.fit(scaled_data)"
   ]
  },
  {
   "cell_type": "code",
   "execution_count": null,
   "metadata": {},
   "outputs": [],
   "source": [
    "pca_all.explained_variance_ratio_.round(2)"
   ]
  },
  {
   "cell_type": "code",
   "execution_count": null,
   "metadata": {},
   "outputs": [],
   "source": [
    "scree_data_all = pd.DataFrame({'Principle Component':range(1,len(pca_all.explained_variance_ratio_)+1),\n",
    "                               'Explained Variance Ratio': pca_all.explained_variance_ratio_})\n",
    "scree_data_all"
   ]
  },
  {
   "cell_type": "code",
   "execution_count": null,
   "metadata": {},
   "outputs": [],
   "source": [
    "plt.figure(figsize=(10,6))\n",
    "plt.plot(scree_data_all['Principle Component'],scree_data_all['Explained Variance Ratio'], marker='.')\n",
    "plt.title('Scree plot of Explained Variance Ratio for all components')\n",
    "plt.xlabel('Principle Component')\n",
    "plt.ylabel('Explained Variance Ratio')\n",
    "plt.xticks(scree_data_all['Principle Component'])\n",
    "plt.grid(axis='y', alpha=0.4)\n",
    "plt.show()"
   ]
  },
  {
   "cell_type": "code",
   "execution_count": null,
   "metadata": {},
   "outputs": [],
   "source": [
    "pca = PCA(n_components=5)\n",
    "transformed_pca = pca.fit_transform(scaled_data)"
   ]
  },
  {
   "cell_type": "code",
   "execution_count": null,
   "metadata": {},
   "outputs": [],
   "source": []
  },
  {
   "cell_type": "markdown",
   "metadata": {},
   "source": [
    "## Looking at Kmeans"
   ]
  },
  {
   "cell_type": "code",
   "execution_count": null,
   "metadata": {},
   "outputs": [],
   "source": [
    "means = []\n",
    "inertias = []\n",
    "def optimize_k_means(data, max_k):\n",
    "    for k in range(1, max_k):\n",
    "        kmeans = KMeans(n_clusters=k, n_init=10, random_state=42)\n",
    "        kmeans.fit(data)\n",
    "\n",
    "        means.append(k)\n",
    "        inertias.append(kmeans.inertia_)\n",
    "\n",
    "    fig = plt.subplots(figsize=(10,5))\n",
    "    plt.plot(means, inertias, 'o-')\n",
    "    plt.xlabel('Number of Clusters')\n",
    "    plt.ylabel('Inertias')\n",
    "    plt.grid(True)\n",
    "    plt.show()"
   ]
  },
  {
   "cell_type": "code",
   "execution_count": null,
   "metadata": {},
   "outputs": [],
   "source": [
    "optimize_k_means(transformed_pca, 10)"
   ]
  },
  {
   "cell_type": "markdown",
   "metadata": {},
   "source": [
    "The Elbow Method is a straightforward technique to visualize how the variance within clusters changes as the number of clusters increases. The idea is to plot the sum of squared distances (inertia) between data points and their assigned centroids for different values of 'K'. As 'K' increases, the inertia tends to decrease since more centroids provide a closer fit to data points. However, there's a point where the rate of decrease slows down, forming an \"elbow\" in the plot. The 'K' value at the elbow can be considered as the optimal number of clusters, as it balances capturing variance and avoiding over-segmentation."
   ]
  },
  {
   "cell_type": "code",
   "execution_count": null,
   "metadata": {},
   "outputs": [],
   "source": [
    "inertias"
   ]
  },
  {
   "cell_type": "code",
   "execution_count": null,
   "metadata": {},
   "outputs": [],
   "source": [
    "kmeans = KMeans(n_clusters=3, n_init = 10, random_state= 42)\n",
    "cluster_labels = kmeans.fit_predict(df_scaled)\n",
    "df_cleaned['cluster'] = cluster_labels\n"
   ]
  },
  {
   "cell_type": "markdown",
   "metadata": {},
   "source": [
    "### df_cleaned dataframe is now an all numeric dataframe with cluster category applied to each row"
   ]
  },
  {
   "cell_type": "code",
   "execution_count": null,
   "metadata": {},
   "outputs": [],
   "source": [
    "cluster_means = df_cleaned.groupby('cluster').mean().round(2)\n",
    "cluster_means.info()"
   ]
  },
  {
   "cell_type": "code",
   "execution_count": null,
   "metadata": {},
   "outputs": [],
   "source": [
    "plot_df = pd.DataFrame({\n",
    "    'x':transformed_pca[:,0],\n",
    "    'y':transformed_pca[:,1],\n",
    "    'Cluster': cluster_labels.astype(str)\n",
    "})"
   ]
  },
  {
   "cell_type": "code",
   "execution_count": null,
   "metadata": {},
   "outputs": [],
   "source": [
    "plt.figure(figsize=(10,8))\n",
    "sns.scatterplot(data=plot_df, x='x', y='y', hue='Cluster', palette='viridis')\n",
    "plt.title('Customer Segmentation using PCA and Kmeans clustering')\n",
    "plt.xlabel('Principle Component 1')\n",
    "plt.ylabel('Principle Component 2')\n",
    "plt.show()"
   ]
  },
  {
   "cell_type": "code",
   "execution_count": null,
   "metadata": {},
   "outputs": [],
   "source": []
  },
  {
   "cell_type": "code",
   "execution_count": null,
   "metadata": {},
   "outputs": [],
   "source": [
    "grouped_df = df_cleaned.groupby('cluster')[['Tenure in Months','Total Regular Charges']]\n",
    "grouped_df.head()"
   ]
  },
  {
   "cell_type": "code",
   "execution_count": null,
   "metadata": {},
   "outputs": [],
   "source": [
    "tenure_regCharges_df = pd.DataFrame({\n",
    "    'x':df_cleaned['Tenure in Months'],\n",
    "    'y':df_cleaned['Monthly Charge'],\n",
    "    'Cluster': cluster_labels.astype(str)\n",
    "})"
   ]
  },
  {
   "cell_type": "code",
   "execution_count": null,
   "metadata": {},
   "outputs": [],
   "source": [
    "plt.figure(figsize=(10,8))\n",
    "sns.scatterplot(data=tenure_regCharges_df, x='x', y='y', hue='Cluster', palette='viridis')\n",
    "plt.title('Customer Segmentation')\n",
    "plt.xlabel('Tenure in Months')\n",
    "plt.ylabel('Monthly Charge')\n",
    "plt.show()"
   ]
  },
  {
   "cell_type": "markdown",
   "metadata": {},
   "source": [
    "cluster 0 - customers who are willing to pay less to stay with the company.\n",
    "cluster 1 - customers who are willing to pay a high monthly amount but won't stay with the company too long\n",
    "cluster 2 - customers who are willing to pay higher and still willing to stay with the company. "
   ]
  },
  {
   "cell_type": "code",
   "execution_count": null,
   "metadata": {},
   "outputs": [],
   "source": []
  }
 ],
 "metadata": {
  "kernelspec": {
   "display_name": "Python 3 (ipykernel)",
   "language": "python",
   "name": "python3"
  },
  "language_info": {
   "codemirror_mode": {
    "name": "ipython",
    "version": 3
   },
   "file_extension": ".py",
   "mimetype": "text/x-python",
   "name": "python",
   "nbconvert_exporter": "python",
   "pygments_lexer": "ipython3",
   "version": "3.11.7"
  }
 },
 "nbformat": 4,
 "nbformat_minor": 4
}
